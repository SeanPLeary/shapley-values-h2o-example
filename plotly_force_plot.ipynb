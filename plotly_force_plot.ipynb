{
 "cells": [
  {
   "cell_type": "markdown",
   "metadata": {},
   "source": [
    "# Force-Plot Shapley Values using Plotly\n",
    "- use pre-trained h2o model"
   ]
  },
  {
   "cell_type": "markdown",
   "metadata": {},
   "source": [
    "## Import dependencies"
   ]
  },
  {
   "cell_type": "code",
   "execution_count": 1,
   "metadata": {},
   "outputs": [
    {
     "data": {
      "text/html": [
       "<script type=\"text/javascript\">window.PlotlyConfig = {MathJaxConfig: 'local'};</script><script type=\"text/javascript\">if (window.MathJax) {MathJax.Hub.Config({SVG: {font: \"STIX-Web\"}});}</script><script>requirejs.config({paths: { 'plotly': ['https://cdn.plot.ly/plotly-latest.min']},});if(!window._Plotly) {require(['plotly'],function(plotly) {window._Plotly=plotly;});}</script>"
      ],
      "text/vnd.plotly.v1+html": [
       "<script type=\"text/javascript\">window.PlotlyConfig = {MathJaxConfig: 'local'};</script><script type=\"text/javascript\">if (window.MathJax) {MathJax.Hub.Config({SVG: {font: \"STIX-Web\"}});}</script><script>requirejs.config({paths: { 'plotly': ['https://cdn.plot.ly/plotly-latest.min']},});if(!window._Plotly) {require(['plotly'],function(plotly) {window._Plotly=plotly;});}</script>"
      ]
     },
     "metadata": {},
     "output_type": "display_data"
    }
   ],
   "source": [
    "import sklearn\n",
    "import pandas as pd\n",
    "import numpy as np\n",
    "import shap\n",
    "import h2o\n",
    "from h2o.automl import H2OAutoML\n",
    "\n",
    "from plotly.offline import plot, iplot, init_notebook_mode\n",
    "import plotly.graph_objs as go\n",
    "\n",
    "init_notebook_mode(connected=True)"
   ]
  },
  {
   "cell_type": "markdown",
   "metadata": {},
   "source": [
    "## initialize h2o"
   ]
  },
  {
   "cell_type": "code",
   "execution_count": 2,
   "metadata": {},
   "outputs": [],
   "source": [
    "%%capture\n",
    "h2o.init()"
   ]
  },
  {
   "cell_type": "markdown",
   "metadata": {},
   "source": [
    "## h2o prediction wrapper"
   ]
  },
  {
   "cell_type": "code",
   "execution_count": 3,
   "metadata": {},
   "outputs": [],
   "source": [
    "class H2OProbWrapper:\n",
    "    def __init__(self, h2o_model, feature_names):\n",
    "        self.h2o_model = h2o_model\n",
    "        self.feature_names = feature_names\n",
    "\n",
    "    def predict_binary_prob(self, X):\n",
    "        if isinstance(X, pd.Series):\n",
    "            X = X.values.reshape(1,-1)\n",
    "        self.dataframe= pd.DataFrame(X, columns=self.feature_names)\n",
    "        self.predictions = self.h2o_model.predict(h2o.H2OFrame(self.dataframe)).as_data_frame().values\n",
    "        return self.predictions.astype('float64')[:,-1] #probability of True class"
   ]
  },
  {
   "cell_type": "markdown",
   "metadata": {},
   "source": [
    "## Force-plot and help functions"
   ]
  },
  {
   "cell_type": "code",
   "execution_count": 4,
   "metadata": {},
   "outputs": [],
   "source": [
    "def svg_path_headless(start,shap_value,arrow_width):\n",
    "    if shap_value < 0:\n",
    "        shap_value = shap_value*-1\n",
    "        path = ' M' + str(start) + ',0' + ' L' + str(start) + ',1' + ' L' + str(start+shap_value) + ',1' \\\n",
    "                + ' L' + str(start+shap_value-arrow_width) + ',0.5' + ' L' + str(start+shap_value) + ',0' \\\n",
    "                + ' Z'\n",
    "\n",
    "        fillcolor = 'rgba(255, 0, 0, 0.5)'\n",
    "        linecolor = 'rgb(255, 0, 0)'\n",
    "    else:\n",
    "        path = ' M' + str(start) + ',0' + ' L' + str(start) + ',1' + ' L' + str(start-shap_value) + ',1' \\\n",
    "                + ' L' + str(start-shap_value+arrow_width) + ',0.5' + ' L' + str(start-shap_value) + ',0' \\\n",
    "                + ' Z'\n",
    "\n",
    "        fillcolor = 'rgba(0, 0, 255, 0.5)'\n",
    "        linecolor = 'rgb(0, 0, 255)'\n",
    "    \n",
    "    return {\n",
    "        'type': 'path',\n",
    "        'path': path,\n",
    "        'fillcolor': fillcolor,\n",
    "        'line': {\n",
    "            'color': linecolor,\n",
    "            'width': 1\n",
    "        }\n",
    "       }\n",
    "\n",
    "def svg_path(start,shap_value,arrow_width):\n",
    "    if shap_value < 0:\n",
    "        shap_value = shap_value*-1\n",
    "        path = ' M' + str(start) + ',0' + ' L' + str(start-arrow_width) + ',0.5' + ' L' + str(start) + ',1' + ' L' + str(start+shap_value) + ',1' \\\n",
    "                + ' L' + str(start+shap_value-arrow_width) + ',0.5' + ' L' + str(start+shap_value) + ',0' \\\n",
    "                + ' Z'\n",
    "\n",
    "        fillcolor = 'rgba(255, 0, 0, 0.5)'\n",
    "        linecolor = 'rgb(255, 0, 0)'\n",
    "    else:\n",
    "        path = ' M' + str(start) + ',0' + ' L' + str(start+arrow_width) + ',0.5' + ' L' + str(start) + ',1' + ' L' + str(start-shap_value) + ',1' \\\n",
    "                + ' L' + str(start-shap_value+arrow_width) + ',0.5' + ' L' + str(start-shap_value) + ',0' \\\n",
    "                + ' Z'\n",
    "\n",
    "        fillcolor = 'rgba(0, 0, 255, 0.5)'\n",
    "        linecolor = 'rgb(0, 0, 255)'\n",
    "    \n",
    "    return {\n",
    "        'type': 'path',\n",
    "        'path': path,\n",
    "        'fillcolor': fillcolor,\n",
    "        'line': {\n",
    "            'color': linecolor,\n",
    "            'width': 1\n",
    "        }\n",
    "       }\n",
    "\n",
    "def annot(x,y,text,ay,ax,color):\n",
    "     return [dict(\n",
    "            x=x,\n",
    "            y=y,\n",
    "            xref='x',\n",
    "            yref='y',\n",
    "            text=text,\n",
    "            showarrow=True,\n",
    "            arrowhead=7,\n",
    "            arrowcolor=color,\n",
    "            ax=ax,\n",
    "            ay=ay,\n",
    "            opacity=0.6,\n",
    "            font = dict(\n",
    "            color = color,\n",
    "            size = 10\n",
    "           )\n",
    "        )]\n",
    "    \n",
    "    \n",
    "def force_plot(shap_values,X,output_value,base_value):\n",
    "    \n",
    "    X_cols = X.columns\n",
    "    \n",
    "    mask = shap_values > 0.\n",
    "    pos_shap_values = shap_values[mask]\n",
    "    pos_X_cols = X_cols[mask]\n",
    "    mask = shap_values < 0.\n",
    "    neg_shap_values = shap_values[mask]\n",
    "    neg_X_cols = X_cols[mask]\n",
    "    neg_shap_inds = np.argsort(neg_shap_values)\n",
    "    neg_shap_values = (neg_shap_values[neg_shap_inds])\n",
    "    neg_X_cols = neg_X_cols[neg_shap_inds].tolist()\n",
    "    pos_shap_inds = np.argsort(pos_shap_values)\n",
    "    pos_shap_values = list(pos_shap_values[pos_shap_inds][::-1])\n",
    "    pos_X_cols = pos_X_cols[pos_shap_inds].tolist()\n",
    "\n",
    "\n",
    "\n",
    "    offset = output_value\n",
    "    gap = 0.0025 # white space\n",
    "    \n",
    "    x_max = np.sum(-1*np.array((neg_shap_values)))+output_value + len(neg_shap_values)*gap + 0.1\n",
    "    x_min = output_value + np.sum(-1*np.array((pos_shap_values))) - len(neg_shap_values)*gap - 0.1\n",
    "\n",
    "\n",
    "    neg_annot = []\n",
    "    pos_annot = []\n",
    "    ays = [75,100]\n",
    "    axs = [15,20]\n",
    "\n",
    "\n",
    "    for indx,shap_val in enumerate(neg_shap_values):\n",
    "        if indx == 0:\n",
    "            offset = output_value\n",
    "            shape_list_neg = [svg_path_headless(offset,shap_val,0.01)]  \n",
    "            neg_text_xcoord = offset-shap_val/2\n",
    "        else:\n",
    "            offset = offset - neg_shap_values[indx-1] + gap\n",
    "            shape_list_neg = shape_list_neg + [svg_path(offset,shap_val,0.01)]\n",
    "            neg_text_xcoord = offset-gap*2\n",
    "        ay = ays[np.int(((-1)**(indx+1)+1)/2)]\n",
    "        ax = axs[np.int(((-1)**(indx+1)+1)/2)]*(indx+1)\n",
    "        neg_annot = neg_annot + annot(x=neg_text_xcoord,y=0.5,ay=ay,ax=ax,color='red',\n",
    "                                      text=neg_X_cols[indx] + '=' + str(X_test_display.iloc[person,:][neg_X_cols[indx]]) )\n",
    "\n",
    "\n",
    "\n",
    "\n",
    "    for indx,shap_val in enumerate(pos_shap_values):\n",
    "        if indx == 0:\n",
    "            offset = output_value\n",
    "            shape_list_pos = [svg_path_headless(offset,shap_val,0.01)] \n",
    "            #pos_text_xcoord = pos_text_xcoord + [offset-shap_val/2]\n",
    "            pos_text_xcoord = offset-shap_val/2\n",
    "        else:\n",
    "            offset = offset - pos_shap_values[indx-1] - gap\n",
    "            shape_list_pos = shape_list_pos + [svg_path(offset,shap_val,0.01)]  \n",
    "            pos_text_xcoord = offset+gap*2\n",
    "        ay = ays[np.int(((-1)**(indx+1)+1)/2)]\n",
    "        pos_annot = pos_annot + annot(x=pos_text_xcoord,y=0.5,ay=ay,ax=-20*(indx+1),color='blue',\n",
    "                                      text=pos_X_cols[indx] + '=' + str(X_test_display.iloc[person,:][pos_X_cols[indx]]) )\n",
    "\n",
    "\n",
    "\n",
    "\n",
    "\n",
    "    \n",
    "    \n",
    "    trace0 = go.Scatter(\n",
    "        x=[output_value,base_value],\n",
    "        y=[1.5,1.5],\n",
    "        text=['output_value = ' + '<br />' + str(np.round(output_value,3)),\n",
    "              'base_value = ' +  '<br />' + str(np.round(base_value,3)),\n",
    "             ],\n",
    "        mode='text'\n",
    "    )\n",
    "\n",
    "\n",
    "\n",
    "    data = [trace0]\n",
    "    layout = {\n",
    "        'title': 'Force Plot',\n",
    "        'xaxis': {\n",
    "            'range': [x_min, x_max],\n",
    "            'zeroline': False,\n",
    "        },\n",
    "        'yaxis': {\n",
    "            'range': [-0.5, 2.4],\n",
    "            'showgrid': False,\n",
    "            'showline': False,\n",
    "            'ticks': '',\n",
    "            'showticklabels': False\n",
    "        },\n",
    "        'shapes': shape_list_neg + shape_list_pos,\n",
    "        'width': 1200,\n",
    "        'height': 250,\n",
    "        'annotations':pos_annot + neg_annot + [\n",
    "            dict(\n",
    "                x=output_value,\n",
    "                y=2.3,\n",
    "                xref='x',\n",
    "                yref='y',\n",
    "                text='lower',\n",
    "                showarrow=True,\n",
    "                arrowhead=1,\n",
    "                ax=50,\n",
    "                ay=0,\n",
    "                opacity=0.6,\n",
    "                arrowcolor='red',\n",
    "                font = dict(\n",
    "                color = 'red',\n",
    "                size = 10\n",
    "               )\n",
    "            ),\n",
    "            dict(\n",
    "                x=output_value,\n",
    "                y=2.3,\n",
    "                xref='x',\n",
    "                yref='y',\n",
    "                text='higher',\n",
    "                showarrow=True,\n",
    "                arrowhead=1,\n",
    "                ax=-50,\n",
    "                ay=0,\n",
    "                opacity=0.6,\n",
    "                arrowcolor='blue',\n",
    "                font = dict(\n",
    "                color = 'blue',\n",
    "                size = 10\n",
    "               )\n",
    "            )        \n",
    "            ]\n",
    "\n",
    "\n",
    "    }\n",
    "    fig = {\n",
    "        'data': data,\n",
    "        'layout': layout\n",
    "    }\n",
    "    iplot(fig, filename='force-plot')"
   ]
  },
  {
   "cell_type": "markdown",
   "metadata": {},
   "source": [
    "## Import dataset"
   ]
  },
  {
   "cell_type": "code",
   "execution_count": 5,
   "metadata": {},
   "outputs": [],
   "source": [
    "X = pd.read_pickle('X.pkl')\n",
    "X_train = pd.read_pickle('X_train.pkl')\n",
    "X_test = pd.read_pickle('X_test.pkl')\n",
    "X_train_display = pd.read_pickle('X_train_display.pkl')\n",
    "X_test_display = pd.read_pickle('X_test_display.pkl')\n",
    "y_train = np.load('y_train.npy')\n",
    "y_test = np.load('y_test.npy')\n",
    "y_train_display = np.load('y_train_display.npy')\n",
    "y_test_display = np.load('y_test_display.npy')"
   ]
  },
  {
   "cell_type": "code",
   "execution_count": 6,
   "metadata": {},
   "outputs": [],
   "source": [
    "feature_names = list(X_train.columns)"
   ]
  },
  {
   "cell_type": "markdown",
   "metadata": {},
   "source": [
    "## Import h2o model"
   ]
  },
  {
   "cell_type": "code",
   "execution_count": 7,
   "metadata": {},
   "outputs": [],
   "source": [
    "bst_model = h2o.load_model('StackedEnsemble_AllModels_AutoML_20190317_062616')"
   ]
  },
  {
   "cell_type": "code",
   "execution_count": 8,
   "metadata": {},
   "outputs": [],
   "source": [
    "h2o_wrapper = H2OProbWrapper(bst_model,feature_names) "
   ]
  },
  {
   "cell_type": "markdown",
   "metadata": {},
   "source": [
    "## Get base value"
   ]
  },
  {
   "cell_type": "code",
   "execution_count": 9,
   "metadata": {},
   "outputs": [
    {
     "name": "stdout",
     "output_type": "stream",
     "text": [
      "Parse progress: |█████████████████████████████████████████████████████████| 100%\n",
      "stackedensemble prediction progress: |████████████████████████████████████| 100%\n"
     ]
    }
   ],
   "source": [
    "explainer = shap.KernelExplainer(h2o_wrapper.predict_binary_prob, X_train.iloc[:100,:])\n",
    "base_value = explainer.expected_value"
   ]
  },
  {
   "cell_type": "markdown",
   "metadata": {},
   "source": [
    "## Model Prediction for first person in dataset"
   ]
  },
  {
   "cell_type": "code",
   "execution_count": 10,
   "metadata": {},
   "outputs": [
    {
     "name": "stdout",
     "output_type": "stream",
     "text": [
      "Parse progress: |█████████████████████████████████████████████████████████| 100%\n",
      "stackedensemble prediction progress: |████████████████████████████████████| 100%\n",
      "Parse progress: |█████████████████████████████████████████████████████████| 100%\n",
      "stackedensemble prediction progress: |████████████████████████████████████| 100%\n"
     ]
    },
    {
     "name": "stderr",
     "output_type": "stream",
     "text": [
      "/home/sean/miniconda3/envs/shap_h2o/lib/python3.6/site-packages/shap/explainers/kernel.py:535: UserWarning:\n",
      "\n",
      "l1_reg=\"auto\" is deprecated and in the next version (v0.29) the behavior will change from a conditional use of AIC to simply \"num_features(10)\"!\n",
      "\n"
     ]
    },
    {
     "name": "stdout",
     "output_type": "stream",
     "text": [
      "Parse progress: |█████████████████████████████████████████████████████████| 100%\n",
      "stackedensemble prediction progress: |████████████████████████████████████| 100%\n",
      "prediction (probability that this person earns more than $50k/year) = 0.04360118550084032\n",
      "ground_truth (this person earns more than $50k/year) = False\n"
     ]
    },
    {
     "data": {
      "application/vnd.plotly.v1+json": {
       "config": {
        "linkText": "Export to plot.ly",
        "plotlyServerURL": "https://plot.ly",
        "showLink": false
       },
       "data": [
        {
         "mode": "text",
         "text": [
          "output_value = <br />0.044",
          "base_value = <br />0.236"
         ],
         "type": "scatter",
         "uid": "d0f22d50-e186-41e7-8f1c-15d85dd1c6fc",
         "x": [
          0.04360118550084032,
          0.23604470608951586
         ],
         "y": [
          1.5,
          1.5
         ]
        }
       ],
       "layout": {
        "annotations": [
         {
          "arrowcolor": "blue",
          "arrowhead": 7,
          "ax": -20,
          "ay": 75,
          "font": {
           "color": "blue",
           "size": 10
          },
          "opacity": 0.6,
          "showarrow": true,
          "text": "Occupation= Exec-managerial",
          "x": 0.026877812233914597,
          "xref": "x",
          "y": 0.5,
          "yref": "y"
         },
         {
          "arrowcolor": "red",
          "arrowhead": 7,
          "ax": 15,
          "ay": 75,
          "font": {
           "color": "red",
           "size": 10
          },
          "opacity": 0.6,
          "showarrow": true,
          "text": "Marital Status= Divorced",
          "x": 0.09075353877316258,
          "xref": "x",
          "y": 0.5,
          "yref": "y"
         },
         {
          "arrowcolor": "red",
          "arrowhead": 7,
          "ax": 40,
          "ay": 100,
          "font": {
           "color": "red",
           "size": 10
          },
          "opacity": 0.6,
          "showarrow": true,
          "text": "Relationship= Unmarried",
          "x": 0.13540589204548487,
          "xref": "x",
          "y": 0.5,
          "yref": "y"
         },
         {
          "arrowcolor": "red",
          "arrowhead": 7,
          "ax": 45,
          "ay": 75,
          "font": {
           "color": "red",
           "size": 10
          },
          "opacity": 0.6,
          "showarrow": true,
          "text": "Hours per week=40.0",
          "x": 0.19987064422827736,
          "xref": "x",
          "y": 0.5,
          "yref": "y"
         },
         {
          "arrowcolor": "red",
          "arrowhead": 7,
          "ax": 80,
          "ay": 100,
          "font": {
           "color": "red",
           "size": 10
          },
          "opacity": 0.6,
          "showarrow": true,
          "text": "Sex= Female",
          "x": 0.21941769087509902,
          "xref": "x",
          "y": 0.5,
          "yref": "y"
         },
         {
          "arrowcolor": "red",
          "arrowhead": 7,
          "ax": 75,
          "ay": 75,
          "font": {
           "color": "red",
           "size": 10
          },
          "opacity": 0.6,
          "showarrow": true,
          "text": "Education-Num=10.0",
          "x": 0.23858046918956408,
          "xref": "x",
          "y": 0.5,
          "yref": "y"
         },
         {
          "arrowcolor": "red",
          "arrowhead": 7,
          "ax": 120,
          "ay": 100,
          "font": {
           "color": "red",
           "size": 10
          },
          "opacity": 0.6,
          "showarrow": true,
          "text": "Capital Loss=625.0",
          "x": 0.2576217952527186,
          "xref": "x",
          "y": 0.5,
          "yref": "y"
         },
         {
          "arrowcolor": "red",
          "arrowhead": 7,
          "ax": 105,
          "ay": 75,
          "font": {
           "color": "red",
           "size": 10
          },
          "opacity": 0.6,
          "showarrow": true,
          "text": "Capital Gain=0.0",
          "x": 0.2712728994119058,
          "xref": "x",
          "y": 0.5,
          "yref": "y"
         },
         {
          "arrowcolor": "red",
          "arrowhead": 1,
          "ax": 50,
          "ay": 0,
          "font": {
           "color": "red",
           "size": 10
          },
          "opacity": 0.6,
          "showarrow": true,
          "text": "lower",
          "x": 0.04360118550084032,
          "xref": "x",
          "y": 2.3,
          "yref": "y"
         },
         {
          "arrowcolor": "blue",
          "arrowhead": 1,
          "ax": -50,
          "ay": 0,
          "font": {
           "color": "blue",
           "size": 10
          },
          "opacity": 0.6,
          "showarrow": true,
          "text": "higher",
          "x": 0.04360118550084032,
          "xref": "x",
          "y": 2.3,
          "yref": "y"
         }
        ],
        "height": 250,
        "shapes": [
         {
          "fillcolor": "rgba(255, 0, 0, 0.5)",
          "line": {
           "color": "rgb(255, 0, 0)",
           "width": 1
          },
          "path": " M0.04360118550084032,0 L0.04360118550084032,1 L0.13790589204548487,1 L0.12790589204548486,0.5 L0.13790589204548487,0 Z",
          "type": "path"
         },
         {
          "fillcolor": "rgba(255, 0, 0, 0.5)",
          "line": {
           "color": "rgb(255, 0, 0)",
           "width": 1
          },
          "path": " M0.14040589204548487,0 L0.13040589204548486,0.5 L0.14040589204548487,1 L0.20237064422827736,1 L0.19237064422827735,0.5 L0.20237064422827736,0 Z",
          "type": "path"
         },
         {
          "fillcolor": "rgba(255, 0, 0, 0.5)",
          "line": {
           "color": "rgb(255, 0, 0)",
           "width": 1
          },
          "path": " M0.20487064422827736,0 L0.19487064422827735,0.5 L0.20487064422827736,1 L0.22191769087509902,1 L0.211917690875099,0.5 L0.22191769087509902,0 Z",
          "type": "path"
         },
         {
          "fillcolor": "rgba(255, 0, 0, 0.5)",
          "line": {
           "color": "rgb(255, 0, 0)",
           "width": 1
          },
          "path": " M0.22441769087509902,0 L0.21441769087509902,0.5 L0.22441769087509902,1 L0.24108046918956408,1 L0.23108046918956407,0.5 L0.24108046918956408,0 Z",
          "type": "path"
         },
         {
          "fillcolor": "rgba(255, 0, 0, 0.5)",
          "line": {
           "color": "rgb(255, 0, 0)",
           "width": 1
          },
          "path": " M0.24358046918956408,0 L0.23358046918956407,0.5 L0.24358046918956408,1 L0.2601217952527186,1 L0.2501217952527186,0.5 L0.2601217952527186,0 Z",
          "type": "path"
         },
         {
          "fillcolor": "rgba(255, 0, 0, 0.5)",
          "line": {
           "color": "rgb(255, 0, 0)",
           "width": 1
          },
          "path": " M0.2626217952527186,0 L0.2526217952527186,0.5 L0.2626217952527186,1 L0.2737728994119058,1 L0.2637728994119058,0.5 L0.2737728994119058,0 Z",
          "type": "path"
         },
         {
          "fillcolor": "rgba(255, 0, 0, 0.5)",
          "line": {
           "color": "rgb(255, 0, 0)",
           "width": 1
          },
          "path": " M0.2762728994119058,0 L0.2662728994119058,0.5 L0.2762728994119058,1 L0.28449145262336734,1 L0.2744914526233673,0.5 L0.28449145262336734,0 Z",
          "type": "path"
         },
         {
          "fillcolor": "rgba(0, 0, 255, 0.5)",
          "line": {
           "color": "rgb(0, 0, 255)",
           "width": 1
          },
          "path": " M0.04360118550084032,0 L0.04360118550084032,1 L0.010154438966988873,1 L0.020154438966988875,0.5 L0.010154438966988873,0 Z",
          "type": "path"
         }
        ],
        "title": {
         "text": "Force Plot"
        },
        "width": 1200,
        "xaxis": {
         "range": [
          -0.10734556103301113,
          0.3869914526233673
         ],
         "zeroline": false
        },
        "yaxis": {
         "range": [
          -0.5,
          2.4
         ],
         "showgrid": false,
         "showline": false,
         "showticklabels": false,
         "ticks": ""
        }
       }
      },
      "text/html": [
       "<div id=\"9bb35c49-7456-40f7-95c0-96f0334635f4\" style=\"height: 250px; width: 1200px;\" class=\"plotly-graph-div\"></div><script type=\"text/javascript\">require([\"plotly\"], function(Plotly) { window.PLOTLYENV=window.PLOTLYENV || {};window.PLOTLYENV.BASE_URL=\"https://plot.ly\";\n",
       "if (document.getElementById(\"9bb35c49-7456-40f7-95c0-96f0334635f4\")) {\n",
       "    Plotly.newPlot(\"9bb35c49-7456-40f7-95c0-96f0334635f4\", [{\"mode\": \"text\", \"text\": [\"output_value = <br />0.044\", \"base_value = <br />0.236\"], \"x\": [0.04360118550084032, 0.23604470608951586], \"y\": [1.5, 1.5], \"type\": \"scatter\", \"uid\": \"8f2fff41-a5f3-47a7-9327-bfa465e5553f\"}], {\"annotations\": [{\"arrowcolor\": \"blue\", \"arrowhead\": 7, \"ax\": -20, \"ay\": 75, \"font\": {\"color\": \"blue\", \"size\": 10}, \"opacity\": 0.6, \"showarrow\": true, \"text\": \"Occupation= Exec-managerial\", \"x\": 0.026877812233914597, \"xref\": \"x\", \"y\": 0.5, \"yref\": \"y\"}, {\"arrowcolor\": \"red\", \"arrowhead\": 7, \"ax\": 15, \"ay\": 75, \"font\": {\"color\": \"red\", \"size\": 10}, \"opacity\": 0.6, \"showarrow\": true, \"text\": \"Marital Status= Divorced\", \"x\": 0.09075353877316258, \"xref\": \"x\", \"y\": 0.5, \"yref\": \"y\"}, {\"arrowcolor\": \"red\", \"arrowhead\": 7, \"ax\": 40, \"ay\": 100, \"font\": {\"color\": \"red\", \"size\": 10}, \"opacity\": 0.6, \"showarrow\": true, \"text\": \"Relationship= Unmarried\", \"x\": 0.13540589204548487, \"xref\": \"x\", \"y\": 0.5, \"yref\": \"y\"}, {\"arrowcolor\": \"red\", \"arrowhead\": 7, \"ax\": 45, \"ay\": 75, \"font\": {\"color\": \"red\", \"size\": 10}, \"opacity\": 0.6, \"showarrow\": true, \"text\": \"Hours per week=40.0\", \"x\": 0.19987064422827736, \"xref\": \"x\", \"y\": 0.5, \"yref\": \"y\"}, {\"arrowcolor\": \"red\", \"arrowhead\": 7, \"ax\": 80, \"ay\": 100, \"font\": {\"color\": \"red\", \"size\": 10}, \"opacity\": 0.6, \"showarrow\": true, \"text\": \"Sex= Female\", \"x\": 0.21941769087509902, \"xref\": \"x\", \"y\": 0.5, \"yref\": \"y\"}, {\"arrowcolor\": \"red\", \"arrowhead\": 7, \"ax\": 75, \"ay\": 75, \"font\": {\"color\": \"red\", \"size\": 10}, \"opacity\": 0.6, \"showarrow\": true, \"text\": \"Education-Num=10.0\", \"x\": 0.23858046918956408, \"xref\": \"x\", \"y\": 0.5, \"yref\": \"y\"}, {\"arrowcolor\": \"red\", \"arrowhead\": 7, \"ax\": 120, \"ay\": 100, \"font\": {\"color\": \"red\", \"size\": 10}, \"opacity\": 0.6, \"showarrow\": true, \"text\": \"Capital Loss=625.0\", \"x\": 0.2576217952527186, \"xref\": \"x\", \"y\": 0.5, \"yref\": \"y\"}, {\"arrowcolor\": \"red\", \"arrowhead\": 7, \"ax\": 105, \"ay\": 75, \"font\": {\"color\": \"red\", \"size\": 10}, \"opacity\": 0.6, \"showarrow\": true, \"text\": \"Capital Gain=0.0\", \"x\": 0.2712728994119058, \"xref\": \"x\", \"y\": 0.5, \"yref\": \"y\"}, {\"arrowcolor\": \"red\", \"arrowhead\": 1, \"ax\": 50, \"ay\": 0, \"font\": {\"color\": \"red\", \"size\": 10}, \"opacity\": 0.6, \"showarrow\": true, \"text\": \"lower\", \"x\": 0.04360118550084032, \"xref\": \"x\", \"y\": 2.3, \"yref\": \"y\"}, {\"arrowcolor\": \"blue\", \"arrowhead\": 1, \"ax\": -50, \"ay\": 0, \"font\": {\"color\": \"blue\", \"size\": 10}, \"opacity\": 0.6, \"showarrow\": true, \"text\": \"higher\", \"x\": 0.04360118550084032, \"xref\": \"x\", \"y\": 2.3, \"yref\": \"y\"}], \"height\": 250, \"shapes\": [{\"fillcolor\": \"rgba(255, 0, 0, 0.5)\", \"line\": {\"color\": \"rgb(255, 0, 0)\", \"width\": 1}, \"path\": \" M0.04360118550084032,0 L0.04360118550084032,1 L0.13790589204548487,1 L0.12790589204548486,0.5 L0.13790589204548487,0 Z\", \"type\": \"path\"}, {\"fillcolor\": \"rgba(255, 0, 0, 0.5)\", \"line\": {\"color\": \"rgb(255, 0, 0)\", \"width\": 1}, \"path\": \" M0.14040589204548487,0 L0.13040589204548486,0.5 L0.14040589204548487,1 L0.20237064422827736,1 L0.19237064422827735,0.5 L0.20237064422827736,0 Z\", \"type\": \"path\"}, {\"fillcolor\": \"rgba(255, 0, 0, 0.5)\", \"line\": {\"color\": \"rgb(255, 0, 0)\", \"width\": 1}, \"path\": \" M0.20487064422827736,0 L0.19487064422827735,0.5 L0.20487064422827736,1 L0.22191769087509902,1 L0.211917690875099,0.5 L0.22191769087509902,0 Z\", \"type\": \"path\"}, {\"fillcolor\": \"rgba(255, 0, 0, 0.5)\", \"line\": {\"color\": \"rgb(255, 0, 0)\", \"width\": 1}, \"path\": \" M0.22441769087509902,0 L0.21441769087509902,0.5 L0.22441769087509902,1 L0.24108046918956408,1 L0.23108046918956407,0.5 L0.24108046918956408,0 Z\", \"type\": \"path\"}, {\"fillcolor\": \"rgba(255, 0, 0, 0.5)\", \"line\": {\"color\": \"rgb(255, 0, 0)\", \"width\": 1}, \"path\": \" M0.24358046918956408,0 L0.23358046918956407,0.5 L0.24358046918956408,1 L0.2601217952527186,1 L0.2501217952527186,0.5 L0.2601217952527186,0 Z\", \"type\": \"path\"}, {\"fillcolor\": \"rgba(255, 0, 0, 0.5)\", \"line\": {\"color\": \"rgb(255, 0, 0)\", \"width\": 1}, \"path\": \" M0.2626217952527186,0 L0.2526217952527186,0.5 L0.2626217952527186,1 L0.2737728994119058,1 L0.2637728994119058,0.5 L0.2737728994119058,0 Z\", \"type\": \"path\"}, {\"fillcolor\": \"rgba(255, 0, 0, 0.5)\", \"line\": {\"color\": \"rgb(255, 0, 0)\", \"width\": 1}, \"path\": \" M0.2762728994119058,0 L0.2662728994119058,0.5 L0.2762728994119058,1 L0.28449145262336734,1 L0.2744914526233673,0.5 L0.28449145262336734,0 Z\", \"type\": \"path\"}, {\"fillcolor\": \"rgba(0, 0, 255, 0.5)\", \"line\": {\"color\": \"rgb(0, 0, 255)\", \"width\": 1}, \"path\": \" M0.04360118550084032,0 L0.04360118550084032,1 L0.010154438966988873,1 L0.020154438966988875,0.5 L0.010154438966988873,0 Z\", \"type\": \"path\"}], \"title\": {\"text\": \"Force Plot\"}, \"width\": 1200, \"xaxis\": {\"range\": [-0.10734556103301113, 0.3869914526233673], \"zeroline\": false}, \"yaxis\": {\"range\": [-0.5, 2.4], \"showgrid\": false, \"showline\": false, \"showticklabels\": false, \"ticks\": \"\"}}, {\"showLink\": false, \"linkText\": \"Export to plot.ly\", \"plotlyServerURL\": \"https://plot.ly\"}); \n",
       "}\n",
       "});</script>"
      ],
      "text/vnd.plotly.v1+html": [
       "<div id=\"9bb35c49-7456-40f7-95c0-96f0334635f4\" style=\"height: 250px; width: 1200px;\" class=\"plotly-graph-div\"></div><script type=\"text/javascript\">require([\"plotly\"], function(Plotly) { window.PLOTLYENV=window.PLOTLYENV || {};window.PLOTLYENV.BASE_URL=\"https://plot.ly\";\n",
       "if (document.getElementById(\"9bb35c49-7456-40f7-95c0-96f0334635f4\")) {\n",
       "    Plotly.newPlot(\"9bb35c49-7456-40f7-95c0-96f0334635f4\", [{\"mode\": \"text\", \"text\": [\"output_value = <br />0.044\", \"base_value = <br />0.236\"], \"x\": [0.04360118550084032, 0.23604470608951586], \"y\": [1.5, 1.5], \"type\": \"scatter\", \"uid\": \"8f2fff41-a5f3-47a7-9327-bfa465e5553f\"}], {\"annotations\": [{\"arrowcolor\": \"blue\", \"arrowhead\": 7, \"ax\": -20, \"ay\": 75, \"font\": {\"color\": \"blue\", \"size\": 10}, \"opacity\": 0.6, \"showarrow\": true, \"text\": \"Occupation= Exec-managerial\", \"x\": 0.026877812233914597, \"xref\": \"x\", \"y\": 0.5, \"yref\": \"y\"}, {\"arrowcolor\": \"red\", \"arrowhead\": 7, \"ax\": 15, \"ay\": 75, \"font\": {\"color\": \"red\", \"size\": 10}, \"opacity\": 0.6, \"showarrow\": true, \"text\": \"Marital Status= Divorced\", \"x\": 0.09075353877316258, \"xref\": \"x\", \"y\": 0.5, \"yref\": \"y\"}, {\"arrowcolor\": \"red\", \"arrowhead\": 7, \"ax\": 40, \"ay\": 100, \"font\": {\"color\": \"red\", \"size\": 10}, \"opacity\": 0.6, \"showarrow\": true, \"text\": \"Relationship= Unmarried\", \"x\": 0.13540589204548487, \"xref\": \"x\", \"y\": 0.5, \"yref\": \"y\"}, {\"arrowcolor\": \"red\", \"arrowhead\": 7, \"ax\": 45, \"ay\": 75, \"font\": {\"color\": \"red\", \"size\": 10}, \"opacity\": 0.6, \"showarrow\": true, \"text\": \"Hours per week=40.0\", \"x\": 0.19987064422827736, \"xref\": \"x\", \"y\": 0.5, \"yref\": \"y\"}, {\"arrowcolor\": \"red\", \"arrowhead\": 7, \"ax\": 80, \"ay\": 100, \"font\": {\"color\": \"red\", \"size\": 10}, \"opacity\": 0.6, \"showarrow\": true, \"text\": \"Sex= Female\", \"x\": 0.21941769087509902, \"xref\": \"x\", \"y\": 0.5, \"yref\": \"y\"}, {\"arrowcolor\": \"red\", \"arrowhead\": 7, \"ax\": 75, \"ay\": 75, \"font\": {\"color\": \"red\", \"size\": 10}, \"opacity\": 0.6, \"showarrow\": true, \"text\": \"Education-Num=10.0\", \"x\": 0.23858046918956408, \"xref\": \"x\", \"y\": 0.5, \"yref\": \"y\"}, {\"arrowcolor\": \"red\", \"arrowhead\": 7, \"ax\": 120, \"ay\": 100, \"font\": {\"color\": \"red\", \"size\": 10}, \"opacity\": 0.6, \"showarrow\": true, \"text\": \"Capital Loss=625.0\", \"x\": 0.2576217952527186, \"xref\": \"x\", \"y\": 0.5, \"yref\": \"y\"}, {\"arrowcolor\": \"red\", \"arrowhead\": 7, \"ax\": 105, \"ay\": 75, \"font\": {\"color\": \"red\", \"size\": 10}, \"opacity\": 0.6, \"showarrow\": true, \"text\": \"Capital Gain=0.0\", \"x\": 0.2712728994119058, \"xref\": \"x\", \"y\": 0.5, \"yref\": \"y\"}, {\"arrowcolor\": \"red\", \"arrowhead\": 1, \"ax\": 50, \"ay\": 0, \"font\": {\"color\": \"red\", \"size\": 10}, \"opacity\": 0.6, \"showarrow\": true, \"text\": \"lower\", \"x\": 0.04360118550084032, \"xref\": \"x\", \"y\": 2.3, \"yref\": \"y\"}, {\"arrowcolor\": \"blue\", \"arrowhead\": 1, \"ax\": -50, \"ay\": 0, \"font\": {\"color\": \"blue\", \"size\": 10}, \"opacity\": 0.6, \"showarrow\": true, \"text\": \"higher\", \"x\": 0.04360118550084032, \"xref\": \"x\", \"y\": 2.3, \"yref\": \"y\"}], \"height\": 250, \"shapes\": [{\"fillcolor\": \"rgba(255, 0, 0, 0.5)\", \"line\": {\"color\": \"rgb(255, 0, 0)\", \"width\": 1}, \"path\": \" M0.04360118550084032,0 L0.04360118550084032,1 L0.13790589204548487,1 L0.12790589204548486,0.5 L0.13790589204548487,0 Z\", \"type\": \"path\"}, {\"fillcolor\": \"rgba(255, 0, 0, 0.5)\", \"line\": {\"color\": \"rgb(255, 0, 0)\", \"width\": 1}, \"path\": \" M0.14040589204548487,0 L0.13040589204548486,0.5 L0.14040589204548487,1 L0.20237064422827736,1 L0.19237064422827735,0.5 L0.20237064422827736,0 Z\", \"type\": \"path\"}, {\"fillcolor\": \"rgba(255, 0, 0, 0.5)\", \"line\": {\"color\": \"rgb(255, 0, 0)\", \"width\": 1}, \"path\": \" M0.20487064422827736,0 L0.19487064422827735,0.5 L0.20487064422827736,1 L0.22191769087509902,1 L0.211917690875099,0.5 L0.22191769087509902,0 Z\", \"type\": \"path\"}, {\"fillcolor\": \"rgba(255, 0, 0, 0.5)\", \"line\": {\"color\": \"rgb(255, 0, 0)\", \"width\": 1}, \"path\": \" M0.22441769087509902,0 L0.21441769087509902,0.5 L0.22441769087509902,1 L0.24108046918956408,1 L0.23108046918956407,0.5 L0.24108046918956408,0 Z\", \"type\": \"path\"}, {\"fillcolor\": \"rgba(255, 0, 0, 0.5)\", \"line\": {\"color\": \"rgb(255, 0, 0)\", \"width\": 1}, \"path\": \" M0.24358046918956408,0 L0.23358046918956407,0.5 L0.24358046918956408,1 L0.2601217952527186,1 L0.2501217952527186,0.5 L0.2601217952527186,0 Z\", \"type\": \"path\"}, {\"fillcolor\": \"rgba(255, 0, 0, 0.5)\", \"line\": {\"color\": \"rgb(255, 0, 0)\", \"width\": 1}, \"path\": \" M0.2626217952527186,0 L0.2526217952527186,0.5 L0.2626217952527186,1 L0.2737728994119058,1 L0.2637728994119058,0.5 L0.2737728994119058,0 Z\", \"type\": \"path\"}, {\"fillcolor\": \"rgba(255, 0, 0, 0.5)\", \"line\": {\"color\": \"rgb(255, 0, 0)\", \"width\": 1}, \"path\": \" M0.2762728994119058,0 L0.2662728994119058,0.5 L0.2762728994119058,1 L0.28449145262336734,1 L0.2744914526233673,0.5 L0.28449145262336734,0 Z\", \"type\": \"path\"}, {\"fillcolor\": \"rgba(0, 0, 255, 0.5)\", \"line\": {\"color\": \"rgb(0, 0, 255)\", \"width\": 1}, \"path\": \" M0.04360118550084032,0 L0.04360118550084032,1 L0.010154438966988873,1 L0.020154438966988875,0.5 L0.010154438966988873,0 Z\", \"type\": \"path\"}], \"title\": {\"text\": \"Force Plot\"}, \"width\": 1200, \"xaxis\": {\"range\": [-0.10734556103301113, 0.3869914526233673], \"zeroline\": false}, \"yaxis\": {\"range\": [-0.5, 2.4], \"showgrid\": false, \"showline\": false, \"showticklabels\": false, \"ticks\": \"\"}}, {\"showLink\": false, \"linkText\": \"Export to plot.ly\", \"plotlyServerURL\": \"https://plot.ly\"}); \n",
       "}\n",
       "});</script>"
      ]
     },
     "metadata": {},
     "output_type": "display_data"
    }
   ],
   "source": [
    "person = 0 # first person in test dataset\n",
    "\n",
    "\n",
    "shap_values = explainer.shap_values(X_test.iloc[person,:], nsamples=500)\n",
    "output_value = h2o_wrapper.predict_binary_prob(X_test.iloc[person])[0]\n",
    "\n",
    "print('prediction (probability that this person earns more than $50k/year) =', output_value)\n",
    "print('ground_truth (this person earns more than $50k/year) =', y_test_display[person])\n",
    "\n",
    "force_plot(shap_values,X,output_value,base_value)"
   ]
  },
  {
   "cell_type": "markdown",
   "metadata": {},
   "source": [
    "## Second prediction\n",
    "- second person in list"
   ]
  },
  {
   "cell_type": "code",
   "execution_count": 11,
   "metadata": {},
   "outputs": [
    {
     "name": "stdout",
     "output_type": "stream",
     "text": [
      "Parse progress: |█████████████████████████████████████████████████████████| 100%\n",
      "stackedensemble prediction progress: |████████████████████████████████████| 100%\n",
      "Parse progress: |█████████████████████████████████████████████████████████| 100%\n",
      "stackedensemble prediction progress: |████████████████████████████████████| 100%\n"
     ]
    },
    {
     "name": "stderr",
     "output_type": "stream",
     "text": [
      "/home/sean/miniconda3/envs/shap_h2o/lib/python3.6/site-packages/shap/explainers/kernel.py:535: UserWarning:\n",
      "\n",
      "l1_reg=\"auto\" is deprecated and in the next version (v0.29) the behavior will change from a conditional use of AIC to simply \"num_features(10)\"!\n",
      "\n"
     ]
    },
    {
     "name": "stdout",
     "output_type": "stream",
     "text": [
      "Parse progress: |█████████████████████████████████████████████████████████| 100%\n",
      "stackedensemble prediction progress: |████████████████████████████████████| 100%\n",
      "prediction (probability that this person earns more than $50k/year) = 0.8012822261020577\n",
      "ground_truth (this person earns more than $50k/year) = True\n"
     ]
    },
    {
     "data": {
      "application/vnd.plotly.v1+json": {
       "config": {
        "linkText": "Export to plot.ly",
        "plotlyServerURL": "https://plot.ly",
        "showLink": false
       },
       "data": [
        {
         "mode": "text",
         "text": [
          "output_value = <br />0.801",
          "base_value = <br />0.236"
         ],
         "type": "scatter",
         "uid": "476b2f9f-e917-424e-ad0f-1bcbb156e4a5",
         "x": [
          0.8012822261020577,
          0.23604470608951586
         ],
         "y": [
          1.5,
          1.5
         ]
        }
       ],
       "layout": {
        "annotations": [
         {
          "arrowcolor": "blue",
          "arrowhead": 7,
          "ax": -20,
          "ay": 75,
          "font": {
           "color": "blue",
           "size": 10
          },
          "opacity": 0.6,
          "showarrow": true,
          "text": "Country= United-States",
          "x": 0.7189984526264066,
          "xref": "x",
          "y": 0.5,
          "yref": "y"
         },
         {
          "arrowcolor": "blue",
          "arrowhead": 7,
          "ax": -40,
          "ay": 100,
          "font": {
           "color": "blue",
           "size": 10
          },
          "opacity": 0.6,
          "showarrow": true,
          "text": "Sex= Male",
          "x": 0.6392146791507557,
          "xref": "x",
          "y": 0.5,
          "yref": "y"
         },
         {
          "arrowcolor": "blue",
          "arrowhead": 7,
          "ax": -60,
          "ay": 75,
          "font": {
           "color": "blue",
           "size": 10
          },
          "opacity": 0.6,
          "showarrow": true,
          "text": "Workclass= Federal-gov",
          "x": 0.47930876144741813,
          "xref": "x",
          "y": 0.5,
          "yref": "y"
         },
         {
          "arrowcolor": "blue",
          "arrowhead": 7,
          "ax": -80,
          "ay": 100,
          "font": {
           "color": "blue",
           "size": 10
          },
          "opacity": 0.6,
          "showarrow": true,
          "text": "Age=48.0",
          "x": 0.34642009001663415,
          "xref": "x",
          "y": 0.5,
          "yref": "y"
         },
         {
          "arrowcolor": "blue",
          "arrowhead": 7,
          "ax": -100,
          "ay": 75,
          "font": {
           "color": "blue",
           "size": 10
          },
          "opacity": 0.6,
          "showarrow": true,
          "text": "Occupation= Exec-managerial",
          "x": 0.2368934640171113,
          "xref": "x",
          "y": 0.5,
          "yref": "y"
         },
         {
          "arrowcolor": "blue",
          "arrowhead": 7,
          "ax": -120,
          "ay": 100,
          "font": {
           "color": "blue",
           "size": 10
          },
          "opacity": 0.6,
          "showarrow": true,
          "text": "Hours per week=58.0",
          "x": 0.154193867795149,
          "xref": "x",
          "y": 0.5,
          "yref": "y"
         },
         {
          "arrowcolor": "blue",
          "arrowhead": 7,
          "ax": -140,
          "ay": 75,
          "font": {
           "color": "blue",
           "size": 10
          },
          "opacity": 0.6,
          "showarrow": true,
          "text": "Education-Num=13.0",
          "x": 0.10524234811858396,
          "xref": "x",
          "y": 0.5,
          "yref": "y"
         },
         {
          "arrowcolor": "red",
          "arrowhead": 7,
          "ax": 15,
          "ay": 75,
          "font": {
           "color": "red",
           "size": 10
          },
          "opacity": 0.6,
          "showarrow": true,
          "text": "Marital Status= Divorced",
          "x": 0.8448853404128516,
          "xref": "x",
          "y": 0.5,
          "yref": "y"
         },
         {
          "arrowcolor": "red",
          "arrowhead": 7,
          "ax": 40,
          "ay": 100,
          "font": {
           "color": "red",
           "size": 10
          },
          "opacity": 0.6,
          "showarrow": true,
          "text": "Relationship= Unmarried",
          "x": 0.8859884547236455,
          "xref": "x",
          "y": 0.5,
          "yref": "y"
         },
         {
          "arrowcolor": "red",
          "arrowhead": 1,
          "ax": 50,
          "ay": 0,
          "font": {
           "color": "red",
           "size": 10
          },
          "opacity": 0.6,
          "showarrow": true,
          "text": "lower",
          "x": 0.8012822261020577,
          "xref": "x",
          "y": 2.3,
          "yref": "y"
         },
         {
          "arrowcolor": "blue",
          "arrowhead": 1,
          "ax": -50,
          "ay": 0,
          "font": {
           "color": "blue",
           "size": 10
          },
          "opacity": 0.6,
          "showarrow": true,
          "text": "higher",
          "x": 0.8012822261020577,
          "xref": "x",
          "y": 2.3,
          "yref": "y"
         }
        ],
        "height": 250,
        "shapes": [
         {
          "fillcolor": "rgba(255, 0, 0, 0.5)",
          "line": {
           "color": "rgb(255, 0, 0)",
           "width": 1
          },
          "path": " M0.8012822261020577,0 L0.8012822261020577,1 L0.8884884547236456,1 L0.8784884547236456,0.5 L0.8884884547236456,0 Z",
          "type": "path"
         },
         {
          "fillcolor": "rgba(255, 0, 0, 0.5)",
          "line": {
           "color": "rgb(255, 0, 0)",
           "width": 1
          },
          "path": " M0.8909884547236455,0 L0.8809884547236455,0.5 L0.8909884547236455,1 L0.9385010566346766,1 L0.9285010566346766,0.5 L0.9385010566346766,0 Z",
          "type": "path"
         },
         {
          "fillcolor": "rgba(0, 0, 255, 0.5)",
          "line": {
           "color": "rgb(0, 0, 255)",
           "width": 1
          },
          "path": " M0.8012822261020577,0 L0.8012822261020577,1 L0.6367146791507556,1 L0.6467146791507556,0.5 L0.6367146791507556,0 Z",
          "type": "path"
         },
         {
          "fillcolor": "rgba(0, 0, 255, 0.5)",
          "line": {
           "color": "rgb(0, 0, 255)",
           "width": 1
          },
          "path": " M0.6342146791507557,0 L0.6442146791507557,0.5 L0.6342146791507557,1 L0.47680876144741813,1 L0.48680876144741814,0.5 L0.47680876144741813,0 Z",
          "type": "path"
         },
         {
          "fillcolor": "rgba(0, 0, 255, 0.5)",
          "line": {
           "color": "rgb(0, 0, 255)",
           "width": 1
          },
          "path": " M0.4743087614474181,0 L0.48430876144741813,0.5 L0.4743087614474181,1 L0.34392009001663415,1 L0.35392009001663416,0.5 L0.34392009001663415,0 Z",
          "type": "path"
         },
         {
          "fillcolor": "rgba(0, 0, 255, 0.5)",
          "line": {
           "color": "rgb(0, 0, 255)",
           "width": 1
          },
          "path": " M0.34142009001663415,0 L0.35142009001663416,0.5 L0.34142009001663415,1 L0.2343934640171113,1 L0.24439346401711132,0.5 L0.2343934640171113,0 Z",
          "type": "path"
         },
         {
          "fillcolor": "rgba(0, 0, 255, 0.5)",
          "line": {
           "color": "rgb(0, 0, 255)",
           "width": 1
          },
          "path": " M0.2318934640171113,0 L0.24189346401711131,0.5 L0.2318934640171113,1 L0.15169386779514898,1 L0.161693867795149,0.5 L0.15169386779514898,0 Z",
          "type": "path"
         },
         {
          "fillcolor": "rgba(0, 0, 255, 0.5)",
          "line": {
           "color": "rgb(0, 0, 255)",
           "width": 1
          },
          "path": " M0.14919386779514898,0 L0.159193867795149,0.5 L0.14919386779514898,1 L0.10274234811858396,1 L0.11274234811858395,0.5 L0.10274234811858396,0 Z",
          "type": "path"
         },
         {
          "fillcolor": "rgba(0, 0, 255, 0.5)",
          "line": {
           "color": "rgb(0, 0, 255)",
           "width": 1
          },
          "path": " M0.10024234811858396,0 L0.11024234811858395,0.5 L0.10024234811858396,1 L0.08632587555689691,1 L0.09632587555689691,0.5 L0.08632587555689691,0 Z",
          "type": "path"
         }
        ],
        "title": {
         "text": "Force Plot"
        },
        "width": 1200,
        "xaxis": {
         "range": [
          -0.0036741244431032494,
          1.0410010566346768
         ],
         "zeroline": false
        },
        "yaxis": {
         "range": [
          -0.5,
          2.4
         ],
         "showgrid": false,
         "showline": false,
         "showticklabels": false,
         "ticks": ""
        }
       }
      },
      "text/html": [
       "<div id=\"d20ae3ba-3f81-443b-9806-382f8f1c0cc5\" style=\"height: 250px; width: 1200px;\" class=\"plotly-graph-div\"></div><script type=\"text/javascript\">require([\"plotly\"], function(Plotly) { window.PLOTLYENV=window.PLOTLYENV || {};window.PLOTLYENV.BASE_URL=\"https://plot.ly\";\n",
       "if (document.getElementById(\"d20ae3ba-3f81-443b-9806-382f8f1c0cc5\")) {\n",
       "    Plotly.newPlot(\"d20ae3ba-3f81-443b-9806-382f8f1c0cc5\", [{\"mode\": \"text\", \"text\": [\"output_value = <br />0.801\", \"base_value = <br />0.236\"], \"x\": [0.8012822261020577, 0.23604470608951586], \"y\": [1.5, 1.5], \"type\": \"scatter\", \"uid\": \"4e59124f-d150-4f61-99f0-b9bfb01fcc4c\"}], {\"annotations\": [{\"arrowcolor\": \"blue\", \"arrowhead\": 7, \"ax\": -20, \"ay\": 75, \"font\": {\"color\": \"blue\", \"size\": 10}, \"opacity\": 0.6, \"showarrow\": true, \"text\": \"Country= United-States\", \"x\": 0.7189984526264066, \"xref\": \"x\", \"y\": 0.5, \"yref\": \"y\"}, {\"arrowcolor\": \"blue\", \"arrowhead\": 7, \"ax\": -40, \"ay\": 100, \"font\": {\"color\": \"blue\", \"size\": 10}, \"opacity\": 0.6, \"showarrow\": true, \"text\": \"Sex= Male\", \"x\": 0.6392146791507557, \"xref\": \"x\", \"y\": 0.5, \"yref\": \"y\"}, {\"arrowcolor\": \"blue\", \"arrowhead\": 7, \"ax\": -60, \"ay\": 75, \"font\": {\"color\": \"blue\", \"size\": 10}, \"opacity\": 0.6, \"showarrow\": true, \"text\": \"Workclass= Federal-gov\", \"x\": 0.47930876144741813, \"xref\": \"x\", \"y\": 0.5, \"yref\": \"y\"}, {\"arrowcolor\": \"blue\", \"arrowhead\": 7, \"ax\": -80, \"ay\": 100, \"font\": {\"color\": \"blue\", \"size\": 10}, \"opacity\": 0.6, \"showarrow\": true, \"text\": \"Age=48.0\", \"x\": 0.34642009001663415, \"xref\": \"x\", \"y\": 0.5, \"yref\": \"y\"}, {\"arrowcolor\": \"blue\", \"arrowhead\": 7, \"ax\": -100, \"ay\": 75, \"font\": {\"color\": \"blue\", \"size\": 10}, \"opacity\": 0.6, \"showarrow\": true, \"text\": \"Occupation= Exec-managerial\", \"x\": 0.2368934640171113, \"xref\": \"x\", \"y\": 0.5, \"yref\": \"y\"}, {\"arrowcolor\": \"blue\", \"arrowhead\": 7, \"ax\": -120, \"ay\": 100, \"font\": {\"color\": \"blue\", \"size\": 10}, \"opacity\": 0.6, \"showarrow\": true, \"text\": \"Hours per week=58.0\", \"x\": 0.154193867795149, \"xref\": \"x\", \"y\": 0.5, \"yref\": \"y\"}, {\"arrowcolor\": \"blue\", \"arrowhead\": 7, \"ax\": -140, \"ay\": 75, \"font\": {\"color\": \"blue\", \"size\": 10}, \"opacity\": 0.6, \"showarrow\": true, \"text\": \"Education-Num=13.0\", \"x\": 0.10524234811858396, \"xref\": \"x\", \"y\": 0.5, \"yref\": \"y\"}, {\"arrowcolor\": \"red\", \"arrowhead\": 7, \"ax\": 15, \"ay\": 75, \"font\": {\"color\": \"red\", \"size\": 10}, \"opacity\": 0.6, \"showarrow\": true, \"text\": \"Marital Status= Divorced\", \"x\": 0.8448853404128516, \"xref\": \"x\", \"y\": 0.5, \"yref\": \"y\"}, {\"arrowcolor\": \"red\", \"arrowhead\": 7, \"ax\": 40, \"ay\": 100, \"font\": {\"color\": \"red\", \"size\": 10}, \"opacity\": 0.6, \"showarrow\": true, \"text\": \"Relationship= Unmarried\", \"x\": 0.8859884547236455, \"xref\": \"x\", \"y\": 0.5, \"yref\": \"y\"}, {\"arrowcolor\": \"red\", \"arrowhead\": 1, \"ax\": 50, \"ay\": 0, \"font\": {\"color\": \"red\", \"size\": 10}, \"opacity\": 0.6, \"showarrow\": true, \"text\": \"lower\", \"x\": 0.8012822261020577, \"xref\": \"x\", \"y\": 2.3, \"yref\": \"y\"}, {\"arrowcolor\": \"blue\", \"arrowhead\": 1, \"ax\": -50, \"ay\": 0, \"font\": {\"color\": \"blue\", \"size\": 10}, \"opacity\": 0.6, \"showarrow\": true, \"text\": \"higher\", \"x\": 0.8012822261020577, \"xref\": \"x\", \"y\": 2.3, \"yref\": \"y\"}], \"height\": 250, \"shapes\": [{\"fillcolor\": \"rgba(255, 0, 0, 0.5)\", \"line\": {\"color\": \"rgb(255, 0, 0)\", \"width\": 1}, \"path\": \" M0.8012822261020577,0 L0.8012822261020577,1 L0.8884884547236456,1 L0.8784884547236456,0.5 L0.8884884547236456,0 Z\", \"type\": \"path\"}, {\"fillcolor\": \"rgba(255, 0, 0, 0.5)\", \"line\": {\"color\": \"rgb(255, 0, 0)\", \"width\": 1}, \"path\": \" M0.8909884547236455,0 L0.8809884547236455,0.5 L0.8909884547236455,1 L0.9385010566346766,1 L0.9285010566346766,0.5 L0.9385010566346766,0 Z\", \"type\": \"path\"}, {\"fillcolor\": \"rgba(0, 0, 255, 0.5)\", \"line\": {\"color\": \"rgb(0, 0, 255)\", \"width\": 1}, \"path\": \" M0.8012822261020577,0 L0.8012822261020577,1 L0.6367146791507556,1 L0.6467146791507556,0.5 L0.6367146791507556,0 Z\", \"type\": \"path\"}, {\"fillcolor\": \"rgba(0, 0, 255, 0.5)\", \"line\": {\"color\": \"rgb(0, 0, 255)\", \"width\": 1}, \"path\": \" M0.6342146791507557,0 L0.6442146791507557,0.5 L0.6342146791507557,1 L0.47680876144741813,1 L0.48680876144741814,0.5 L0.47680876144741813,0 Z\", \"type\": \"path\"}, {\"fillcolor\": \"rgba(0, 0, 255, 0.5)\", \"line\": {\"color\": \"rgb(0, 0, 255)\", \"width\": 1}, \"path\": \" M0.4743087614474181,0 L0.48430876144741813,0.5 L0.4743087614474181,1 L0.34392009001663415,1 L0.35392009001663416,0.5 L0.34392009001663415,0 Z\", \"type\": \"path\"}, {\"fillcolor\": \"rgba(0, 0, 255, 0.5)\", \"line\": {\"color\": \"rgb(0, 0, 255)\", \"width\": 1}, \"path\": \" M0.34142009001663415,0 L0.35142009001663416,0.5 L0.34142009001663415,1 L0.2343934640171113,1 L0.24439346401711132,0.5 L0.2343934640171113,0 Z\", \"type\": \"path\"}, {\"fillcolor\": \"rgba(0, 0, 255, 0.5)\", \"line\": {\"color\": \"rgb(0, 0, 255)\", \"width\": 1}, \"path\": \" M0.2318934640171113,0 L0.24189346401711131,0.5 L0.2318934640171113,1 L0.15169386779514898,1 L0.161693867795149,0.5 L0.15169386779514898,0 Z\", \"type\": \"path\"}, {\"fillcolor\": \"rgba(0, 0, 255, 0.5)\", \"line\": {\"color\": \"rgb(0, 0, 255)\", \"width\": 1}, \"path\": \" M0.14919386779514898,0 L0.159193867795149,0.5 L0.14919386779514898,1 L0.10274234811858396,1 L0.11274234811858395,0.5 L0.10274234811858396,0 Z\", \"type\": \"path\"}, {\"fillcolor\": \"rgba(0, 0, 255, 0.5)\", \"line\": {\"color\": \"rgb(0, 0, 255)\", \"width\": 1}, \"path\": \" M0.10024234811858396,0 L0.11024234811858395,0.5 L0.10024234811858396,1 L0.08632587555689691,1 L0.09632587555689691,0.5 L0.08632587555689691,0 Z\", \"type\": \"path\"}], \"title\": {\"text\": \"Force Plot\"}, \"width\": 1200, \"xaxis\": {\"range\": [-0.0036741244431032494, 1.0410010566346768], \"zeroline\": false}, \"yaxis\": {\"range\": [-0.5, 2.4], \"showgrid\": false, \"showline\": false, \"showticklabels\": false, \"ticks\": \"\"}}, {\"showLink\": false, \"linkText\": \"Export to plot.ly\", \"plotlyServerURL\": \"https://plot.ly\"}); \n",
       "}\n",
       "});</script>"
      ],
      "text/vnd.plotly.v1+html": [
       "<div id=\"d20ae3ba-3f81-443b-9806-382f8f1c0cc5\" style=\"height: 250px; width: 1200px;\" class=\"plotly-graph-div\"></div><script type=\"text/javascript\">require([\"plotly\"], function(Plotly) { window.PLOTLYENV=window.PLOTLYENV || {};window.PLOTLYENV.BASE_URL=\"https://plot.ly\";\n",
       "if (document.getElementById(\"d20ae3ba-3f81-443b-9806-382f8f1c0cc5\")) {\n",
       "    Plotly.newPlot(\"d20ae3ba-3f81-443b-9806-382f8f1c0cc5\", [{\"mode\": \"text\", \"text\": [\"output_value = <br />0.801\", \"base_value = <br />0.236\"], \"x\": [0.8012822261020577, 0.23604470608951586], \"y\": [1.5, 1.5], \"type\": \"scatter\", \"uid\": \"4e59124f-d150-4f61-99f0-b9bfb01fcc4c\"}], {\"annotations\": [{\"arrowcolor\": \"blue\", \"arrowhead\": 7, \"ax\": -20, \"ay\": 75, \"font\": {\"color\": \"blue\", \"size\": 10}, \"opacity\": 0.6, \"showarrow\": true, \"text\": \"Country= United-States\", \"x\": 0.7189984526264066, \"xref\": \"x\", \"y\": 0.5, \"yref\": \"y\"}, {\"arrowcolor\": \"blue\", \"arrowhead\": 7, \"ax\": -40, \"ay\": 100, \"font\": {\"color\": \"blue\", \"size\": 10}, \"opacity\": 0.6, \"showarrow\": true, \"text\": \"Sex= Male\", \"x\": 0.6392146791507557, \"xref\": \"x\", \"y\": 0.5, \"yref\": \"y\"}, {\"arrowcolor\": \"blue\", \"arrowhead\": 7, \"ax\": -60, \"ay\": 75, \"font\": {\"color\": \"blue\", \"size\": 10}, \"opacity\": 0.6, \"showarrow\": true, \"text\": \"Workclass= Federal-gov\", \"x\": 0.47930876144741813, \"xref\": \"x\", \"y\": 0.5, \"yref\": \"y\"}, {\"arrowcolor\": \"blue\", \"arrowhead\": 7, \"ax\": -80, \"ay\": 100, \"font\": {\"color\": \"blue\", \"size\": 10}, \"opacity\": 0.6, \"showarrow\": true, \"text\": \"Age=48.0\", \"x\": 0.34642009001663415, \"xref\": \"x\", \"y\": 0.5, \"yref\": \"y\"}, {\"arrowcolor\": \"blue\", \"arrowhead\": 7, \"ax\": -100, \"ay\": 75, \"font\": {\"color\": \"blue\", \"size\": 10}, \"opacity\": 0.6, \"showarrow\": true, \"text\": \"Occupation= Exec-managerial\", \"x\": 0.2368934640171113, \"xref\": \"x\", \"y\": 0.5, \"yref\": \"y\"}, {\"arrowcolor\": \"blue\", \"arrowhead\": 7, \"ax\": -120, \"ay\": 100, \"font\": {\"color\": \"blue\", \"size\": 10}, \"opacity\": 0.6, \"showarrow\": true, \"text\": \"Hours per week=58.0\", \"x\": 0.154193867795149, \"xref\": \"x\", \"y\": 0.5, \"yref\": \"y\"}, {\"arrowcolor\": \"blue\", \"arrowhead\": 7, \"ax\": -140, \"ay\": 75, \"font\": {\"color\": \"blue\", \"size\": 10}, \"opacity\": 0.6, \"showarrow\": true, \"text\": \"Education-Num=13.0\", \"x\": 0.10524234811858396, \"xref\": \"x\", \"y\": 0.5, \"yref\": \"y\"}, {\"arrowcolor\": \"red\", \"arrowhead\": 7, \"ax\": 15, \"ay\": 75, \"font\": {\"color\": \"red\", \"size\": 10}, \"opacity\": 0.6, \"showarrow\": true, \"text\": \"Marital Status= Divorced\", \"x\": 0.8448853404128516, \"xref\": \"x\", \"y\": 0.5, \"yref\": \"y\"}, {\"arrowcolor\": \"red\", \"arrowhead\": 7, \"ax\": 40, \"ay\": 100, \"font\": {\"color\": \"red\", \"size\": 10}, \"opacity\": 0.6, \"showarrow\": true, \"text\": \"Relationship= Unmarried\", \"x\": 0.8859884547236455, \"xref\": \"x\", \"y\": 0.5, \"yref\": \"y\"}, {\"arrowcolor\": \"red\", \"arrowhead\": 1, \"ax\": 50, \"ay\": 0, \"font\": {\"color\": \"red\", \"size\": 10}, \"opacity\": 0.6, \"showarrow\": true, \"text\": \"lower\", \"x\": 0.8012822261020577, \"xref\": \"x\", \"y\": 2.3, \"yref\": \"y\"}, {\"arrowcolor\": \"blue\", \"arrowhead\": 1, \"ax\": -50, \"ay\": 0, \"font\": {\"color\": \"blue\", \"size\": 10}, \"opacity\": 0.6, \"showarrow\": true, \"text\": \"higher\", \"x\": 0.8012822261020577, \"xref\": \"x\", \"y\": 2.3, \"yref\": \"y\"}], \"height\": 250, \"shapes\": [{\"fillcolor\": \"rgba(255, 0, 0, 0.5)\", \"line\": {\"color\": \"rgb(255, 0, 0)\", \"width\": 1}, \"path\": \" M0.8012822261020577,0 L0.8012822261020577,1 L0.8884884547236456,1 L0.8784884547236456,0.5 L0.8884884547236456,0 Z\", \"type\": \"path\"}, {\"fillcolor\": \"rgba(255, 0, 0, 0.5)\", \"line\": {\"color\": \"rgb(255, 0, 0)\", \"width\": 1}, \"path\": \" M0.8909884547236455,0 L0.8809884547236455,0.5 L0.8909884547236455,1 L0.9385010566346766,1 L0.9285010566346766,0.5 L0.9385010566346766,0 Z\", \"type\": \"path\"}, {\"fillcolor\": \"rgba(0, 0, 255, 0.5)\", \"line\": {\"color\": \"rgb(0, 0, 255)\", \"width\": 1}, \"path\": \" M0.8012822261020577,0 L0.8012822261020577,1 L0.6367146791507556,1 L0.6467146791507556,0.5 L0.6367146791507556,0 Z\", \"type\": \"path\"}, {\"fillcolor\": \"rgba(0, 0, 255, 0.5)\", \"line\": {\"color\": \"rgb(0, 0, 255)\", \"width\": 1}, \"path\": \" M0.6342146791507557,0 L0.6442146791507557,0.5 L0.6342146791507557,1 L0.47680876144741813,1 L0.48680876144741814,0.5 L0.47680876144741813,0 Z\", \"type\": \"path\"}, {\"fillcolor\": \"rgba(0, 0, 255, 0.5)\", \"line\": {\"color\": \"rgb(0, 0, 255)\", \"width\": 1}, \"path\": \" M0.4743087614474181,0 L0.48430876144741813,0.5 L0.4743087614474181,1 L0.34392009001663415,1 L0.35392009001663416,0.5 L0.34392009001663415,0 Z\", \"type\": \"path\"}, {\"fillcolor\": \"rgba(0, 0, 255, 0.5)\", \"line\": {\"color\": \"rgb(0, 0, 255)\", \"width\": 1}, \"path\": \" M0.34142009001663415,0 L0.35142009001663416,0.5 L0.34142009001663415,1 L0.2343934640171113,1 L0.24439346401711132,0.5 L0.2343934640171113,0 Z\", \"type\": \"path\"}, {\"fillcolor\": \"rgba(0, 0, 255, 0.5)\", \"line\": {\"color\": \"rgb(0, 0, 255)\", \"width\": 1}, \"path\": \" M0.2318934640171113,0 L0.24189346401711131,0.5 L0.2318934640171113,1 L0.15169386779514898,1 L0.161693867795149,0.5 L0.15169386779514898,0 Z\", \"type\": \"path\"}, {\"fillcolor\": \"rgba(0, 0, 255, 0.5)\", \"line\": {\"color\": \"rgb(0, 0, 255)\", \"width\": 1}, \"path\": \" M0.14919386779514898,0 L0.159193867795149,0.5 L0.14919386779514898,1 L0.10274234811858396,1 L0.11274234811858395,0.5 L0.10274234811858396,0 Z\", \"type\": \"path\"}, {\"fillcolor\": \"rgba(0, 0, 255, 0.5)\", \"line\": {\"color\": \"rgb(0, 0, 255)\", \"width\": 1}, \"path\": \" M0.10024234811858396,0 L0.11024234811858395,0.5 L0.10024234811858396,1 L0.08632587555689691,1 L0.09632587555689691,0.5 L0.08632587555689691,0 Z\", \"type\": \"path\"}], \"title\": {\"text\": \"Force Plot\"}, \"width\": 1200, \"xaxis\": {\"range\": [-0.0036741244431032494, 1.0410010566346768], \"zeroline\": false}, \"yaxis\": {\"range\": [-0.5, 2.4], \"showgrid\": false, \"showline\": false, \"showticklabels\": false, \"ticks\": \"\"}}, {\"showLink\": false, \"linkText\": \"Export to plot.ly\", \"plotlyServerURL\": \"https://plot.ly\"}); \n",
       "}\n",
       "});</script>"
      ]
     },
     "metadata": {},
     "output_type": "display_data"
    }
   ],
   "source": [
    "person = 1 # first person in test dataset\n",
    "\n",
    "\n",
    "shap_values = explainer.shap_values(X_test.iloc[person,:], nsamples=500)\n",
    "output_value = h2o_wrapper.predict_binary_prob(X_test.iloc[person])[0]\n",
    "\n",
    "print('prediction (probability that this person earns more than $50k/year) =', output_value)\n",
    "print('ground_truth (this person earns more than $50k/year) =', y_test_display[person])\n",
    "\n",
    "force_plot(shap_values,X,output_value,base_value)"
   ]
  },
  {
   "cell_type": "markdown",
   "metadata": {},
   "source": [
    "## shutdown h2o"
   ]
  },
  {
   "cell_type": "code",
   "execution_count": 12,
   "metadata": {},
   "outputs": [
    {
     "name": "stdout",
     "output_type": "stream",
     "text": [
      "H2O session _sid_aa47 closed.\n"
     ]
    }
   ],
   "source": [
    "h2o.cluster().shutdown()"
   ]
  }
 ],
 "metadata": {
  "kernelspec": {
   "display_name": "Python 3",
   "language": "python",
   "name": "python3"
  },
  "language_info": {
   "codemirror_mode": {
    "name": "ipython",
    "version": 3
   },
   "file_extension": ".py",
   "mimetype": "text/x-python",
   "name": "python",
   "nbconvert_exporter": "python",
   "pygments_lexer": "ipython3",
   "version": "3.6.8"
  }
 },
 "nbformat": 4,
 "nbformat_minor": 2
}
